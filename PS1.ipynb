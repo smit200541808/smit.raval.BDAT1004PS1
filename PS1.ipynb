{
 "cells": [
  {
   "cell_type": "markdown",
   "id": "82b2e0a0",
   "metadata": {},
   "source": [
    "# Question 1\n",
    "\n",
    "- Identify Data Types for given experssion\n"
   ]
  },
  {
   "cell_type": "code",
   "execution_count": 1,
   "id": "5ee3e586",
   "metadata": {},
   "outputs": [
    {
     "name": "stdout",
     "output_type": "stream",
     "text": [
      "Expression 1 is of type: <class 'int'>\n",
      "Expression 2 is of type: <class 'float'>\n",
      "Expression 3 is of type: <class 'bool'>\n",
      "Expression 4 is of type: <class 'str'>\n",
      "Expression 5 is of type: <class 'int'>\n",
      "Expression 6 is of type: <class 'str'>\n",
      "Expression 7 is of type: <class 'str'>\n",
      "Expression 8 is of type: <class 'float'>\n",
      "Expression 9 is of type: <class 'int'>\n",
      "Expression 10 is of type: <class 'set'>\n",
      "Expression 11 is of type: <class 'bool'>\n",
      "Pi is of type: <class 'float'>\n"
     ]
    }
   ],
   "source": [
    "# Define the expressions\n",
    "expression1 = 5\n",
    "expression2 = 5.0\n",
    "expression3 = 5 > 1\n",
    "expression4 = '5'\n",
    "expression5 = 5 * 2\n",
    "expression6 = '5' * 2\n",
    "expression7 = '5' + '2'\n",
    "expression8 = 5 / 2\n",
    "expression9 = 5 % 2\n",
    "expression10 = {5, 2, 1}\n",
    "expression11 = 5 == 3\n",
    "pi = 3.14159  \n",
    "\n",
    "# Determine and print the data types\n",
    "print(\"Expression 1 is of type:\", type(expression1))\n",
    "print(\"Expression 2 is of type:\", type(expression2))\n",
    "print(\"Expression 3 is of type:\", type(expression3))\n",
    "print(\"Expression 4 is of type:\", type(expression4))\n",
    "print(\"Expression 5 is of type:\", type(expression5))\n",
    "print(\"Expression 6 is of type:\", type(expression6))\n",
    "print(\"Expression 7 is of type:\", type(expression7))\n",
    "print(\"Expression 8 is of type:\", type(expression8))\n",
    "print(\"Expression 9 is of type:\", type(expression9))\n",
    "print(\"Expression 10 is of type:\", type(expression10))\n",
    "print(\"Expression 11 is of type:\", type(expression11))\n",
    "print(\"Pi is of type:\", type(pi))\n"
   ]
  },
  {
   "cell_type": "markdown",
   "id": "64cfce81",
   "metadata": {},
   "source": [
    "# Question 2\n"
   ]
  },
  {
   "cell_type": "markdown",
   "id": "243a6c67",
   "metadata": {},
   "source": [
    "How many letters are there in 'Supercalifragilisticexpialidocious'?"
   ]
  },
  {
   "cell_type": "code",
   "execution_count": 2,
   "id": "974efccc",
   "metadata": {},
   "outputs": [
    {
     "name": "stdout",
     "output_type": "stream",
     "text": [
      "Number of letters: 34\n"
     ]
    }
   ],
   "source": [
    "word = 'Supercalifragilisticexpialidocious'\n",
    "num_letters = len(word)\n",
    "print(\"Number of letters:\", num_letters)\n"
   ]
  },
  {
   "cell_type": "markdown",
   "id": "c69614fa",
   "metadata": {},
   "source": [
    "Does 'Supercalifragilisticexpialidocious' contain 'ice' as a substring? "
   ]
  },
  {
   "cell_type": "code",
   "execution_count": 3,
   "id": "7358d661",
   "metadata": {},
   "outputs": [
    {
     "name": "stdout",
     "output_type": "stream",
     "text": [
      "True\n"
     ]
    }
   ],
   "source": [
    "print('ice' in word)"
   ]
  },
  {
   "cell_type": "markdown",
   "id": "e8cf1609",
   "metadata": {},
   "source": [
    "Which of the following words is the longest:\n",
    "\n",
    "- Supercalifragilisticexpialidocious\n",
    "- Honorificabilitudinitatibus\n",
    "- Bababadalgharaghtakamminarronnkonn ?"
   ]
  },
  {
   "cell_type": "code",
   "execution_count": 4,
   "id": "0c4baf11",
   "metadata": {},
   "outputs": [
    {
     "name": "stdout",
     "output_type": "stream",
     "text": [
      "34\n",
      "27\n",
      "34\n",
      "\n",
      "The longest word is: Supercalifragilisticexpialidocious\n"
     ]
    }
   ],
   "source": [
    "words = ['Supercalifragilisticexpialidocious', 'Honorificabilitudinitatibus', 'Bababadalgharaghtakamminarronnkonn']\n",
    "\n",
    "#printing lenght for each words just for confirmation\n",
    "print(len(words[0]))\n",
    "print(len(words[1]))\n",
    "print(len(words[2]))\n",
    "\n",
    "#applying Pre-defined function for list max.\n",
    "longest_word = max(words)\n",
    "print(\"\\nThe longest word is:\", longest_word)\n"
   ]
  },
  {
   "cell_type": "markdown",
   "id": "43866887",
   "metadata": {},
   "source": [
    "Which composer comes first in the dictionary: 'Berlioz', 'Borodin', 'Brian', 'Bartok', 'Bellini', 'Buxtehude', 'Bernstein'. Which one comes last?"
   ]
  },
  {
   "cell_type": "code",
   "execution_count": 5,
   "id": "b41c7dfc",
   "metadata": {},
   "outputs": [
    {
     "name": "stdout",
     "output_type": "stream",
     "text": [
      "First composer in the dictionary: Bartok\n",
      "Last composer in the dictionary: Buxtehude\n"
     ]
    }
   ],
   "source": [
    "composers = ['Berlioz', 'Borodin', 'Brian', 'Bartok', 'Bellini', 'Buxtehude', 'Bernstein']\n",
    "\n",
    "composers.sort()  # Applying Sort fucntion to the list to sort the list in alphabetically order\n",
    "\n",
    "first_composer = composers[0]\n",
    "last_composer = composers[-1] # Negative Indexing\n",
    "\n",
    "print(\"First composer in the dictionary:\", first_composer)\n",
    "print(\"Last composer in the dictionary:\", last_composer)\n"
   ]
  },
  {
   "cell_type": "markdown",
   "id": "69c29c03",
   "metadata": {},
   "source": [
    "# Question 3\n",
    "\n",
    "Implement function triangleArea(a,b,c) that takes as input the lengths of the 3\n",
    "sides of a triangle and returns the area of the triangle. By Heron's formula, the area \n",
    "of a triangle with side lengths a, b, and c is\n",
    "s(s - a)(s -b)(s -c) ^ 0.5\n",
    ", \n",
    "where \n",
    "s = (a+b+c)/2. "
   ]
  },
  {
   "cell_type": "code",
   "execution_count": 6,
   "id": "bef6630c",
   "metadata": {},
   "outputs": [
    {
     "name": "stdout",
     "output_type": "stream",
     "text": [
      "The area of the triangle is: 1.7320508075688772\n"
     ]
    }
   ],
   "source": [
    "def triangleArea(a, b, c):\n",
    "    # Calculate the s\n",
    "    s = (a + b + c) / 2\n",
    "\n",
    "    # Calculate the area using Heron's formula\n",
    "    area = (s * (s - a) * (s - b) * (s - c)) ** 0.5\n",
    "\n",
    "    return area\n",
    "\n",
    "\n",
    "result = triangleArea(2, 2, 2)\n",
    "print(\"The area of the triangle is:\", result)\n"
   ]
  },
  {
   "cell_type": "markdown",
   "id": "8d0b6d61",
   "metadata": {},
   "source": [
    "# Question 4\n",
    "\n",
    "Write a program in python to separate odd and even integers in separate arrays"
   ]
  },
  {
   "cell_type": "code",
   "execution_count": 7,
   "id": "9eff0ae2",
   "metadata": {},
   "outputs": [
    {
     "name": "stdout",
     "output_type": "stream",
     "text": [
      "Even Numbers are [42, 56, 32]\n",
      "Odd Numbers are [25, 47]\n"
     ]
    }
   ],
   "source": [
    "# Input the number of elements in the array\n",
    "num_elements = [25, 47, 42, 56, 32]\n",
    "\n",
    "# Initialize empty lists for even and odd numbers\n",
    "even_numbers = []\n",
    "odd_numbers = []\n",
    "\n",
    "# Input elements into the array\n",
    "for i in num_elements:\n",
    "    # Check if the number is even or odd and add it to the respective list\n",
    "    if i % 2 == 0:\n",
    "        even_numbers.append(i)\n",
    "    else:\n",
    "        odd_numbers.append(i)\n",
    "\n",
    "print(\"Even Numbers are\", even_numbers)\n",
    "print(\"Odd Numbers are\", odd_numbers)\n"
   ]
  },
  {
   "cell_type": "markdown",
   "id": "07bf6106",
   "metadata": {},
   "source": [
    "# Question 5 \n",
    "\n",
    "a. Write a function inside(x,y,x1,y1,x2,y2) that returns True or False \n",
    "depending on whether the point (x,y) lies in the rectangle with lower left \n",
    "corner (x1,y1) and upper right corner (x2,y2).\n"
   ]
  },
  {
   "cell_type": "code",
   "execution_count": 8,
   "id": "cfbff621",
   "metadata": {},
   "outputs": [
    {
     "name": "stdout",
     "output_type": "stream",
     "text": [
      "True\n",
      "False\n"
     ]
    }
   ],
   "source": [
    "def inside(x, y, x1, y1, x2, y2):\n",
    "    if x1 <= x <= x2 and y1 <= y <= y2: # checking both the points where x and y both lies under upper and lower boundries.\n",
    "        return True\n",
    "    else:\n",
    "        return False\n",
    "\n",
    "# Test the function with example inputs\n",
    "result1 = inside(1, 1, 0, 0, 2, 3)\n",
    "result2 = inside(-1, -1, 0, 0, 2, 3)\n",
    "\n",
    "print(result1)  \n",
    "print(result2)  "
   ]
  },
  {
   "cell_type": "markdown",
   "id": "015361ae",
   "metadata": {},
   "source": [
    "b. Use function inside() from part a. to write an expression that tests whether \n",
    "the point (1,1) lies in both of the following rectangles: one with lower left \n",
    "corner (0.3, 0.5) and upper right corner (1.1, 0.7) and the other with lower \n",
    "left corner (0.5, 0.2) and upper right corner (1.1, 2)."
   ]
  },
  {
   "cell_type": "code",
   "execution_count": 9,
   "id": "30121570",
   "metadata": {},
   "outputs": [
    {
     "name": "stdout",
     "output_type": "stream",
     "text": [
      "The point (1, 1) does not lie in both rectangles.\n"
     ]
    }
   ],
   "source": [
    "# Test whether (1, 1) lies in both of the given rectangles\n",
    "rectangle1_result = inside(1, 1, 0.3, 0.5, 1.1, 0.7)\n",
    "rectangle2_result = inside(1, 1, 0.5, 0.2, 1.1, 2)\n",
    "\n",
    "if rectangle1_result and rectangle2_result:\n",
    "    print(\"The point (1, 1) lies in both rectangles.\")\n",
    "else:\n",
    "    print(\"The point (1, 1) does not lie in both rectangles.\")"
   ]
  },
  {
   "cell_type": "markdown",
   "id": "e5ef7ba9",
   "metadata": {},
   "source": [
    "# Question 6\n",
    "\n",
    "Write a function pig() that takes a word (i.e., a string) as input and returns its pig\u0002Latin form. Your function should still work if the input word contains upper case \n",
    "characters. Your output should always be lower case however. "
   ]
  },
  {
   "cell_type": "code",
   "execution_count": 10,
   "id": "81ac0497",
   "metadata": {},
   "outputs": [
    {
     "name": "stdout",
     "output_type": "stream",
     "text": [
      "happy >>  appyhay\n",
      "Enter >>  enterway\n"
     ]
    }
   ],
   "source": [
    "def pig(word):\n",
    "    # Convert the input word to lowercase\n",
    "    word = word.lower()\n",
    "\n",
    "    # Check if the word starts with a vowel\n",
    "    vowels = 'aeiou'\n",
    "    if word[0] in vowels: # check if word 0 that is first letter lies in vowels\n",
    "        \n",
    "        pig_latin_word = word + 'way' # adding way in last\n",
    "    else:\n",
    "        # If it starts with a consonant, move the first letter to the end and append 'ay'\n",
    "        pig_latin_word = word[1:] + word[0] + 'ay' # words[1:] will start with second word and add first letter to end and add 'ay' in the end.\n",
    "\n",
    "    return pig_latin_word\n",
    "\n",
    "# Test the function\n",
    "print (\"happy >> \" ,pig(\"happy\"))\n",
    "print (\"Enter >> \", pig(\"Enter\"))\n"
   ]
  },
  {
   "cell_type": "markdown",
   "id": "359af210",
   "metadata": {},
   "source": [
    "# Question 7\n",
    "\n",
    "File bloodtype1.txt records blood-types of patients (A, B, AB, O or OO) at a clinic. \n",
    "Write a function bldcount() that reads the file with name name and reports (i.e., \n",
    "prints) how many patients there are in each bloodtype."
   ]
  },
  {
   "cell_type": "markdown",
   "id": "0fe6749b",
   "metadata": {},
   "source": [
    "- bloodtype.txt\n",
    "\n",
    "Patient,BloodType\n",
    "1,O \n",
    "2,A \n",
    "3,АВ \n",
    "4,A \n",
    "5,АВ \n",
    "6,A \n",
    "7,O \n",
    "8,O \n",
    "9,A \n",
    "10,O \n",
    "11,O \n",
    "12,O \n",
    "13,A \n",
    "14,A \n",
    "15,AB \n",
    "16,A \n",
    "17,O \n",
    "18,A \n",
    "19,A \n",
    "20,O \n",
    "21,A \n",
    "22,B \n",
    "23,AB \n",
    "24,AB \n",
    "25,O \n",
    "26,AB \n",
    "27,AB \n",
    "28,AB \n",
    "29,O \n",
    "30,АВ \n",
    "31,O \n",
    "32,АВ \n",
    "33,O"
   ]
  },
  {
   "cell_type": "code",
   "execution_count": 11,
   "id": "d43c0fda",
   "metadata": {},
   "outputs": [
    {
     "name": "stdout",
     "output_type": "stream",
     "text": [
      "There are 10 patients of blood type A.\n",
      "There are 1 patients of blood type B.\n",
      "There are 6 patients of blood type AB.\n",
      "There are 12 patients of blood type O.\n",
      "There are 0 patients of blood type OO.\n"
     ]
    }
   ],
   "source": [
    "def count_blood_types(filename):\n",
    "    # Initialize counters for each blood type\n",
    "    count_A = 0\n",
    "    count_B = 0\n",
    "    count_AB = 0\n",
    "    count_O = 0\n",
    "    count_OO = 0\n",
    "\n",
    "    # Open the file for reading with utf-8 encoding as i was getting error in charmap\n",
    "    with open(filename, 'r', encoding='utf-8') as file:\n",
    "        # Skip the header row\n",
    "        next(file)\n",
    "\n",
    "        # Read each line in the file\n",
    "        for line in file:\n",
    "            # Split the line into parts using comma as the delimiter\n",
    "            parts = line.strip().split(',')\n",
    "            \n",
    "            # Extract the blood type from the second column (index 1)\n",
    "            blood_type = parts[1].strip()\n",
    "\n",
    "            # Update the corresponding blood type counter\n",
    "            if blood_type == 'A':\n",
    "                count_A += 1\n",
    "            elif blood_type == 'B':\n",
    "                count_B += 1\n",
    "            elif blood_type == 'AB':\n",
    "                count_AB += 1\n",
    "            elif blood_type == 'O':\n",
    "                count_O += 1\n",
    "            elif blood_type == 'OO':\n",
    "                count_OO += 1\n",
    "\n",
    "    # Print the counts for each blood type\n",
    "    print(f\"There are {count_A} patients of blood type A.\")\n",
    "    print(f\"There are {count_B} patients of blood type B.\")\n",
    "    print(f\"There are {count_AB} patients of blood type AB.\")\n",
    "    print(f\"There are {count_O} patients of blood type O.\")\n",
    "    print(f\"There are {count_OO} patients of blood type OO.\")\n",
    "\n",
    "# Call the function with the file name\n",
    "count_blood_types('bloodtype.txt')\n"
   ]
  },
  {
   "cell_type": "markdown",
   "id": "242667ff",
   "metadata": {},
   "source": [
    "# Question 8\n",
    "\n",
    "Write a function curconv() that takes as input:"
   ]
  },
  {
   "cell_type": "code",
   "execution_count": 12,
   "id": "42e3fcfb",
   "metadata": {},
   "outputs": [
    {
     "name": "stdout",
     "output_type": "stream",
     "text": [
      "100 EUR in USD: 122.96544\n",
      "100 JPY in USD: 1.241401\n"
     ]
    }
   ],
   "source": [
    "import os\n",
    "\n",
    "current_dir = os.getcwd()\n",
    "def curconv(currency_code, amount):\n",
    "        currency_rates = {}\n",
    "\n",
    "        # Read currency rates from the file 'currencies.txt'\n",
    "        with open(current_dir+'\\currencies.txt', 'r') as file:\n",
    "            for line in file:\n",
    "                parts = line.split() # splting line with white space \n",
    "                currency_rates[parts[0]] = float(parts[1]) # strore Currency code with key and rate in item.\n",
    "\n",
    "        # Check if the given currency code exists in the rates dictionary\n",
    "        if currency_code in currency_rates:\n",
    "            converted_amount = amount * currency_rates[currency_code] #applying conversation logic\n",
    "            return converted_amount\n",
    "        else:\n",
    "            return \"Currency code not found.\"\n",
    "\n",
    "\n",
    "# Test the curconv function\n",
    "amount_in_eur = curconv('EUR', 100)\n",
    "amount_in_jpy = curconv('JPY', 100)\n",
    "\n",
    "print(\"100 EUR in USD:\", amount_in_eur)\n",
    "print(\"100 JPY in USD:\", amount_in_jpy)\n"
   ]
  },
  {
   "cell_type": "markdown",
   "id": "3a8b5c16",
   "metadata": {},
   "source": [
    "# Question 9\n",
    "\n",
    "Trying to add incompatible variables, as in \n",
    "adding 6 + ‘a’\n",
    "\n",
    "- It wil throw an exception for Type Error as integer and String can not be added"
   ]
  },
  {
   "cell_type": "code",
   "execution_count": 13,
   "id": "9389ebe4",
   "metadata": {},
   "outputs": [
    {
     "ename": "TypeError",
     "evalue": "unsupported operand type(s) for +: 'int' and 'str'",
     "output_type": "error",
     "traceback": [
      "\u001b[1;31m---------------------------------------------------------------------------\u001b[0m",
      "\u001b[1;31mTypeError\u001b[0m                                 Traceback (most recent call last)",
      "Cell \u001b[1;32mIn[13], line 1\u001b[0m\n\u001b[1;32m----> 1\u001b[0m \u001b[38;5;28mprint\u001b[39m(\u001b[38;5;241m6\u001b[39m \u001b[38;5;241m+\u001b[39m \u001b[38;5;124m'\u001b[39m\u001b[38;5;124ma\u001b[39m\u001b[38;5;124m'\u001b[39m)\n",
      "\u001b[1;31mTypeError\u001b[0m: unsupported operand type(s) for +: 'int' and 'str'"
     ]
    }
   ],
   "source": [
    "print(6 + 'a')\n"
   ]
  },
  {
   "cell_type": "markdown",
   "id": "5b40d4b9",
   "metadata": {},
   "source": [
    "Referring to the 12th item of a list that has only 10 items\n",
    "- Referring to the 12th item of a list that has only 10 items, causing an IndexError because it reached to index limit."
   ]
  },
  {
   "cell_type": "code",
   "execution_count": 14,
   "id": "d8ebdc83",
   "metadata": {},
   "outputs": [
    {
     "ename": "IndexError",
     "evalue": "list index out of range",
     "output_type": "error",
     "traceback": [
      "\u001b[1;31m---------------------------------------------------------------------------\u001b[0m",
      "\u001b[1;31mIndexError\u001b[0m                                Traceback (most recent call last)",
      "Cell \u001b[1;32mIn[14], line 2\u001b[0m\n\u001b[0;32m      1\u001b[0m my_list \u001b[38;5;241m=\u001b[39m [\u001b[38;5;241m1\u001b[39m, \u001b[38;5;241m2\u001b[39m, \u001b[38;5;241m3\u001b[39m, \u001b[38;5;241m4\u001b[39m, \u001b[38;5;241m5\u001b[39m, \u001b[38;5;241m6\u001b[39m, \u001b[38;5;241m7\u001b[39m, \u001b[38;5;241m8\u001b[39m, \u001b[38;5;241m9\u001b[39m, \u001b[38;5;241m10\u001b[39m]\n\u001b[1;32m----> 2\u001b[0m item \u001b[38;5;241m=\u001b[39m my_list[\u001b[38;5;241m11\u001b[39m]\n",
      "\u001b[1;31mIndexError\u001b[0m: list index out of range"
     ]
    }
   ],
   "source": [
    "my_list = [1, 2, 3, 4, 5, 6, 7, 8, 9, 10]\n",
    "item = my_list[11]"
   ]
  },
  {
   "cell_type": "markdown",
   "id": "8b9154ac",
   "metadata": {},
   "source": [
    "Using a value that is out of range for a function’s input, such as calling math.sqrt(-1.0)\n",
    "- Square root of negative mmuber is not possible hence it will throw a Value Error Exception Message.\n"
   ]
  },
  {
   "cell_type": "code",
   "execution_count": 15,
   "id": "4183e109",
   "metadata": {},
   "outputs": [
    {
     "ename": "ValueError",
     "evalue": "math domain error",
     "output_type": "error",
     "traceback": [
      "\u001b[1;31m---------------------------------------------------------------------------\u001b[0m",
      "\u001b[1;31mValueError\u001b[0m                                Traceback (most recent call last)",
      "Cell \u001b[1;32mIn[15], line 2\u001b[0m\n\u001b[0;32m      1\u001b[0m \u001b[38;5;28;01mimport\u001b[39;00m \u001b[38;5;21;01mmath\u001b[39;00m\n\u001b[1;32m----> 2\u001b[0m result \u001b[38;5;241m=\u001b[39m math\u001b[38;5;241m.\u001b[39msqrt(\u001b[38;5;241m-\u001b[39m\u001b[38;5;241m1.0\u001b[39m)\n",
      "\u001b[1;31mValueError\u001b[0m: math domain error"
     ]
    }
   ],
   "source": [
    "import math\n",
    "result = math.sqrt(-1.0)"
   ]
  },
  {
   "cell_type": "markdown",
   "id": "a560dfac",
   "metadata": {},
   "source": [
    "Using an undeclared variable, such as print(x) when x has not been defined \n",
    " - If the variable is not declared and you are calling for that variable it will throw a Name Error."
   ]
  },
  {
   "cell_type": "code",
   "execution_count": 16,
   "id": "802d6a0e",
   "metadata": {},
   "outputs": [
    {
     "ename": "NameError",
     "evalue": "name 'x' is not defined",
     "output_type": "error",
     "traceback": [
      "\u001b[1;31m---------------------------------------------------------------------------\u001b[0m",
      "\u001b[1;31mNameError\u001b[0m                                 Traceback (most recent call last)",
      "Cell \u001b[1;32mIn[16], line 1\u001b[0m\n\u001b[1;32m----> 1\u001b[0m \u001b[38;5;28mprint\u001b[39m(x)\n",
      "\u001b[1;31mNameError\u001b[0m: name 'x' is not defined"
     ]
    }
   ],
   "source": [
    "print(x)"
   ]
  },
  {
   "cell_type": "markdown",
   "id": "d792af9c",
   "metadata": {},
   "source": [
    "Trying to open a file that does not exist, such as mistyping the file name or looking in the wrong directory.\n",
    "- Trying to open file that is not exist on the declared filepath can cause a FileNotFoundError. "
   ]
  },
  {
   "cell_type": "code",
   "execution_count": 17,
   "id": "8ec5a4b0",
   "metadata": {},
   "outputs": [
    {
     "ename": "FileNotFoundError",
     "evalue": "[Errno 2] No such file or directory: 'nonexistent_file.txt'",
     "output_type": "error",
     "traceback": [
      "\u001b[1;31m---------------------------------------------------------------------------\u001b[0m",
      "\u001b[1;31mFileNotFoundError\u001b[0m                         Traceback (most recent call last)",
      "Cell \u001b[1;32mIn[17], line 1\u001b[0m\n\u001b[1;32m----> 1\u001b[0m \u001b[38;5;28;01mwith\u001b[39;00m \u001b[38;5;28mopen\u001b[39m(\u001b[38;5;124m'\u001b[39m\u001b[38;5;124mnonexistent_file.txt\u001b[39m\u001b[38;5;124m'\u001b[39m, \u001b[38;5;124m'\u001b[39m\u001b[38;5;124mr\u001b[39m\u001b[38;5;124m'\u001b[39m) \u001b[38;5;28;01mas\u001b[39;00m file:\n\u001b[0;32m      2\u001b[0m         content \u001b[38;5;241m=\u001b[39m file\u001b[38;5;241m.\u001b[39mread()\n",
      "File \u001b[1;32mC:\\ProgramData\\anaconda3\\Lib\\site-packages\\IPython\\core\\interactiveshell.py:284\u001b[0m, in \u001b[0;36m_modified_open\u001b[1;34m(file, *args, **kwargs)\u001b[0m\n\u001b[0;32m    277\u001b[0m \u001b[38;5;28;01mif\u001b[39;00m file \u001b[38;5;129;01min\u001b[39;00m {\u001b[38;5;241m0\u001b[39m, \u001b[38;5;241m1\u001b[39m, \u001b[38;5;241m2\u001b[39m}:\n\u001b[0;32m    278\u001b[0m     \u001b[38;5;28;01mraise\u001b[39;00m \u001b[38;5;167;01mValueError\u001b[39;00m(\n\u001b[0;32m    279\u001b[0m         \u001b[38;5;124mf\u001b[39m\u001b[38;5;124m\"\u001b[39m\u001b[38;5;124mIPython won\u001b[39m\u001b[38;5;124m'\u001b[39m\u001b[38;5;124mt let you open fd=\u001b[39m\u001b[38;5;132;01m{\u001b[39;00mfile\u001b[38;5;132;01m}\u001b[39;00m\u001b[38;5;124m by default \u001b[39m\u001b[38;5;124m\"\u001b[39m\n\u001b[0;32m    280\u001b[0m         \u001b[38;5;124m\"\u001b[39m\u001b[38;5;124mas it is likely to crash IPython. If you know what you are doing, \u001b[39m\u001b[38;5;124m\"\u001b[39m\n\u001b[0;32m    281\u001b[0m         \u001b[38;5;124m\"\u001b[39m\u001b[38;5;124myou can use builtins\u001b[39m\u001b[38;5;124m'\u001b[39m\u001b[38;5;124m open.\u001b[39m\u001b[38;5;124m\"\u001b[39m\n\u001b[0;32m    282\u001b[0m     )\n\u001b[1;32m--> 284\u001b[0m \u001b[38;5;28;01mreturn\u001b[39;00m io_open(file, \u001b[38;5;241m*\u001b[39margs, \u001b[38;5;241m*\u001b[39m\u001b[38;5;241m*\u001b[39mkwargs)\n",
      "\u001b[1;31mFileNotFoundError\u001b[0m: [Errno 2] No such file or directory: 'nonexistent_file.txt'"
     ]
    }
   ],
   "source": [
    "with open('nonexistent_file.txt', 'r') as file:\n",
    "        content = file.read()"
   ]
  },
  {
   "cell_type": "markdown",
   "id": "18b1391e",
   "metadata": {},
   "source": [
    "# Question 10\n",
    "\n",
    "Encryption is the process of hiding the meaning of a text by substituting letters in the \n",
    "message with other letters, according to some system. If the process is successful, no \n",
    "one but the intended recipient can understand the encrypted message. Cryptanalysis\n",
    "refers to attempts to undo the encryption, even if some details of the encryption are \n",
    "unknown (for example, if an encrypted message has been intercepted). The first step \n",
    "of cryptanalysis is often to build up a table of letter frequencies in the encrypted text. \n",
    "\n",
    "- Assume that the string letters is already defined as 'abcdefghijklmnopqrstuvwxyz'. Write a function called frequencies()that takes a string as its only parameter, and returns a list of integers, showing the number of times each character appears in the text. Your function may ignore any characters that are not in letters. "
   ]
  },
  {
   "cell_type": "code",
   "execution_count": 18,
   "id": "19ac9650",
   "metadata": {},
   "outputs": [
    {
     "name": "stdout",
     "output_type": "stream",
     "text": [
      "frequencies >> The quick red fox got bored and went home. \n",
      "[1, 1, 1, 3, 5, 1, 1, 2, 1, 0, 1, 0, 1, 2, 4, 0, 1, 2, 0, 3, 1, 0, 1, 1, 0, 0]\n",
      "\n",
      "frequencies >> apple\n",
      "[1, 0, 0, 0, 1, 0, 0, 0, 0, 0, 0, 1, 0, 0, 0, 2, 0, 0, 0, 0, 0, 0, 0, 0, 0, 0]\n"
     ]
    }
   ],
   "source": [
    "def frequencies(text):\n",
    "    # Define the string containing letters\n",
    "    letters = 'abcdefghijklmnopqrstuvwxyz'\n",
    "    \n",
    "    # Initialize an empty list to store the frequencies of each character\n",
    "    letter_frequencies = []\n",
    "\n",
    "    # Convert the input text to lowercase\n",
    "    text = text.lower()\n",
    "\n",
    "    # Iterate through the letters\n",
    "    for char in letters:\n",
    "        # Count the number of times the letter appears in the text\n",
    "        count = text.count(char)\n",
    "        \n",
    "        # Append the count to the list of frequencies\n",
    "        letter_frequencies.append(count)\n",
    "\n",
    "    return letter_frequencies\n",
    "\n",
    "# Test the frequencies function with example inputs\n",
    "result1 = frequencies('The quick red fox got bored and went home.')\n",
    "result2 = frequencies('apple')\n",
    "print(\"frequencies >> The quick red fox got bored and went home. \")\n",
    "print(result1)\n",
    "\n",
    "print(\"\\nfrequencies >> apple\")\n",
    "print(result2)\n"
   ]
  },
  {
   "cell_type": "code",
   "execution_count": null,
   "id": "428e7447",
   "metadata": {},
   "outputs": [],
   "source": []
  }
 ],
 "metadata": {
  "kernelspec": {
   "display_name": "Python 3 (ipykernel)",
   "language": "python",
   "name": "python3"
  },
  "language_info": {
   "codemirror_mode": {
    "name": "ipython",
    "version": 3
   },
   "file_extension": ".py",
   "mimetype": "text/x-python",
   "name": "python",
   "nbconvert_exporter": "python",
   "pygments_lexer": "ipython3",
   "version": "3.11.4"
  }
 },
 "nbformat": 4,
 "nbformat_minor": 5
}
